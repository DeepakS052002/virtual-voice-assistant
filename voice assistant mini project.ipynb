{
 "cells": [
  {
   "cell_type": "code",
   "execution_count": 1,
   "id": "62faf302",
   "metadata": {},
   "outputs": [
    {
     "name": "stdout",
     "output_type": "stream",
     "text": [
      "^C\n",
      "Note: you may need to restart the kernel to use updated packages.\n"
     ]
    }
   ],
   "source": [
    "pip install SpeechRecognition pyttsx3"
   ]
  },
  {
   "cell_type": "code",
   "execution_count": 2,
   "id": "a2029842",
   "metadata": {},
   "outputs": [
    {
     "name": "stdout",
     "output_type": "stream",
     "text": [
      "Defaulting to user installation because normal site-packages is not writeable\n",
      "Requirement already satisfied: SpeechRecognition in c:\\users\\administrator\\appdata\\roaming\\python\\python311\\site-packages (3.10.3)\n",
      "Requirement already satisfied: pyttsx3 in c:\\users\\administrator\\appdata\\roaming\\python\\python311\\site-packages (2.90)\n",
      "Requirement already satisfied: requests>=2.26.0 in c:\\programdata\\anaconda3\\lib\\site-packages (from SpeechRecognition) (2.31.0)\n",
      "Requirement already satisfied: typing-extensions in c:\\programdata\\anaconda3\\lib\\site-packages (from SpeechRecognition) (4.7.1)\n",
      "Requirement already satisfied: comtypes in c:\\users\\administrator\\appdata\\roaming\\python\\python311\\site-packages (from pyttsx3) (1.4.1)\n",
      "Requirement already satisfied: pypiwin32 in c:\\users\\administrator\\appdata\\roaming\\python\\python311\\site-packages (from pyttsx3) (223)\n",
      "Requirement already satisfied: pywin32 in c:\\programdata\\anaconda3\\lib\\site-packages (from pyttsx3) (305.1)\n",
      "Requirement already satisfied: charset-normalizer<4,>=2 in c:\\programdata\\anaconda3\\lib\\site-packages (from requests>=2.26.0->SpeechRecognition) (2.0.4)\n",
      "Requirement already satisfied: idna<4,>=2.5 in c:\\programdata\\anaconda3\\lib\\site-packages (from requests>=2.26.0->SpeechRecognition) (3.4)\n",
      "Requirement already satisfied: urllib3<3,>=1.21.1 in c:\\programdata\\anaconda3\\lib\\site-packages (from requests>=2.26.0->SpeechRecognition) (1.26.16)\n",
      "Requirement already satisfied: certifi>=2017.4.17 in c:\\programdata\\anaconda3\\lib\\site-packages (from requests>=2.26.0->SpeechRecognition) (2023.7.22)\n",
      "Defaulting to user installation because normal site-packages is not writeable\n",
      "Requirement already satisfied: SpeechRecognition in c:\\users\\administrator\\appdata\\roaming\\python\\python311\\site-packages (3.10.3)\n",
      "Requirement already satisfied: pyttsx3 in c:\\users\\administrator\\appdata\\roaming\\python\\python311\\site-packages (2.90)\n",
      "Requirement already satisfied: wikipedia in c:\\users\\administrator\\appdata\\roaming\\python\\python311\\site-packages (1.4.0)\n",
      "Requirement already satisfied: requests>=2.26.0 in c:\\programdata\\anaconda3\\lib\\site-packages (from SpeechRecognition) (2.31.0)\n",
      "Requirement already satisfied: typing-extensions in c:\\programdata\\anaconda3\\lib\\site-packages (from SpeechRecognition) (4.7.1)\n",
      "Requirement already satisfied: comtypes in c:\\users\\administrator\\appdata\\roaming\\python\\python311\\site-packages (from pyttsx3) (1.4.1)\n",
      "Requirement already satisfied: pypiwin32 in c:\\users\\administrator\\appdata\\roaming\\python\\python311\\site-packages (from pyttsx3) (223)\n",
      "Requirement already satisfied: pywin32 in c:\\programdata\\anaconda3\\lib\\site-packages (from pyttsx3) (305.1)\n",
      "Requirement already satisfied: beautifulsoup4 in c:\\programdata\\anaconda3\\lib\\site-packages (from wikipedia) (4.12.2)\n",
      "Requirement already satisfied: charset-normalizer<4,>=2 in c:\\programdata\\anaconda3\\lib\\site-packages (from requests>=2.26.0->SpeechRecognition) (2.0.4)\n",
      "Requirement already satisfied: idna<4,>=2.5 in c:\\programdata\\anaconda3\\lib\\site-packages (from requests>=2.26.0->SpeechRecognition) (3.4)\n",
      "Requirement already satisfied: urllib3<3,>=1.21.1 in c:\\programdata\\anaconda3\\lib\\site-packages (from requests>=2.26.0->SpeechRecognition) (1.26.16)\n",
      "Requirement already satisfied: certifi>=2017.4.17 in c:\\programdata\\anaconda3\\lib\\site-packages (from requests>=2.26.0->SpeechRecognition) (2023.7.22)\n",
      "Requirement already satisfied: soupsieve>1.2 in c:\\programdata\\anaconda3\\lib\\site-packages (from beautifulsoup4->wikipedia) (2.4)\n",
      "Note: you may need to restart the kernel to use updated packages.\n"
     ]
    }
   ],
   "source": [
    "pip install SpeechRecognition pyttsx3 wikipedia"
   ]
  },
  {
   "cell_type": "code",
   "execution_count": 3,
   "id": "ea2f5837",
   "metadata": {},
   "outputs": [
    {
     "name": "stdout",
     "output_type": "stream",
     "text": [
      "Defaulting to user installation because normal site-packages is not writeable\n",
      "Requirement already satisfied: PyAudio in c:\\users\\administrator\\appdata\\roaming\\python\\python311\\site-packages (0.2.14)\n"
     ]
    }
   ],
   "source": [
    "!pip install PyAudio"
   ]
  },
  {
   "cell_type": "code",
   "execution_count": 1,
   "id": "a391cd9d",
   "metadata": {
    "scrolled": false
   },
   "outputs": [
    {
     "name": "stdout",
     "output_type": "stream",
     "text": [
      "Press Enter to start listening (Q to quit): q\n"
     ]
    }
   ],
   "source": [
    "import speech_recognition as sr\n",
    "import pyttsx3\n",
    "import webbrowser\n",
    "import wikipedia\n",
    "\n",
    "def listen():\n",
    "    recognizer = sr.Recognizer()\n",
    "    with sr.Microphone() as source:\n",
    "        print(\"Listening...\")\n",
    "        recognizer.adjust_for_ambient_noise(source)\n",
    "        audio = recognizer.listen(source)\n",
    "    \n",
    "    try:\n",
    "        print(\"Recognizing...\")\n",
    "        text = recognizer.recognize_google(audio)\n",
    "        return text\n",
    "    except sr.UnknownValueError:\n",
    "        print(\"Sorry, I didn't catch that.\")\n",
    "        return \"\"\n",
    "    except sr.RequestError as e:\n",
    "        print(\"Could not request results from Google Speech Recognition service; {0}\".format(e))\n",
    "        return \"\"\n",
    "\n",
    "def speak(text):\n",
    "    engine = pyttsx3.init()\n",
    "    engine.say(text)\n",
    "    engine.runAndWait()\n",
    "\n",
    "def search_google(query):\n",
    "    url = f\"https://www.google.com/search?q={query}\"\n",
    "    webbrowser.open(url)\n",
    "\n",
    "def search_youtube(query):\n",
    "    url = f\"https://www.youtube.com/results?search_query={query}\"\n",
    "    webbrowser.open(url)\n",
    "\n",
    "def search_wikipedia(query):\n",
    "    try:\n",
    "        summary = wikipedia.summary(query, sentences=2)\n",
    "        return summary\n",
    "    except wikipedia.exceptions.DisambiguationError as e:\n",
    "        options = e.options\n",
    "        return f\"Multiple options found. Please specify: {', '.join(options)}\"\n",
    "    except wikipedia.exceptions.PageError:\n",
    "        return \"Sorry, I couldn't find any information on that topic.\"\n",
    "    except ValueError:\n",
    "        return \"An error occurred while searching. Please try again later.\"\n",
    "\n",
    "def process(text):\n",
    "    if \"google\" in text.lower():\n",
    "        query = text.lower().replace(\"google\", \"\").strip()\n",
    "        search_google(query)\n",
    "        return \"Opening Google...\"\n",
    "    elif \"youtube\" in text.lower():\n",
    "        query = text.lower().replace(\"youtube\", \"\").strip()\n",
    "        search_youtube(query)\n",
    "        return \"Opening YouTube...\"\n",
    "    elif \"wikipedia\" in text.lower():\n",
    "        query = text.lower().replace(\"wikipedia\", \"\").strip()\n",
    "        response = search_wikipedia(query)\n",
    "        return response\n",
    "    elif \"bye\" in text.lower():\n",
    "        return \"Goodbye! Have a great day.\"\n",
    "    else:\n",
    "        return \"I'm sorry, I don't understand.\"\n",
    "\n",
    "if __name__ == \"__main__\":\n",
    "    speak(\"Hello! I'm your virtual assistant.\")\n",
    "    while True:\n",
    "        user_input = input(\"Press Enter to start listening (Q to quit): \")\n",
    "        if user_input.lower() == \"q\":\n",
    "            break\n",
    "        \n",
    "        text = listen()\n",
    "        if text:\n",
    "            print(\"You:\", text)\n",
    "            response = process(text)\n",
    "            print(\"Assistant:\", response)\n",
    "            speak(response)\n"
   ]
  },
  {
   "cell_type": "code",
   "execution_count": null,
   "id": "f3199672",
   "metadata": {},
   "outputs": [
    {
     "name": "stdout",
     "output_type": "stream",
     "text": [
      "Listening...\n"
     ]
    }
   ],
   "source": [
    "import tkinter as tk\n",
    "from tkinter import scrolledtext\n",
    "import threading\n",
    "import speech_recognition as sr\n",
    "import pyttsx3\n",
    "import webbrowser\n",
    "import wikipedia\n",
    "\n",
    "class VirtualAssistantApp:\n",
    "    def __init__(self, master):\n",
    "        self.master = master\n",
    "        master.title(\"Virtual Assistant\")\n",
    "\n",
    "        self.assistant_response_text = scrolledtext.ScrolledText(master, wrap=tk.WORD, width=50, height=20)\n",
    "        self.assistant_response_text.pack(expand=True, fill=tk.BOTH)\n",
    "\n",
    "        self.voice_input_button = tk.Button(master, text=\"Get Voice Input\", command=self.get_voice_input)\n",
    "        self.voice_input_button.pack(pady=5)\n",
    "\n",
    "    def listen(self):\n",
    "        recognizer = sr.Recognizer()\n",
    "        with sr.Microphone() as source:\n",
    "            print(\"Listening...\")\n",
    "            recognizer.adjust_for_ambient_noise(source)\n",
    "            audio = recognizer.listen(source)\n",
    "        \n",
    "        try:\n",
    "            print(\"Recognizing...\")\n",
    "            text = recognizer.recognize_google(audio)\n",
    "            return text\n",
    "        except sr.UnknownValueError:\n",
    "            print(\"Sorry, I didn't catch that.\")\n",
    "            return \"\"\n",
    "        except sr.RequestError as e:\n",
    "            print(\"Could not request results from Google Speech Recognition service; {0}\".format(e))\n",
    "            return \"\"\n",
    "\n",
    "    def speak(self, text):\n",
    "        engine = pyttsx3.init()\n",
    "        engine.say(text)\n",
    "        engine.runAndWait()\n",
    "\n",
    "    def search_google(self, query):\n",
    "        url = f\"https://www.google.com/search?q={query}\"\n",
    "        webbrowser.open(url)\n",
    "\n",
    "    def search_youtube(self, query):\n",
    "        url = f\"https://www.youtube.com/results?search_query={query}\"\n",
    "        webbrowser.open(url)\n",
    "\n",
    "    def search_wikipedia(self, query):\n",
    "        try:\n",
    "            summary = wikipedia.summary(query, sentences=2)\n",
    "            return summary\n",
    "        except wikipedia.exceptions.DisambiguationError as e:\n",
    "            options = e.options\n",
    "            return f\"Multiple options found. Please specify: {', '.join(options)}\"\n",
    "        except wikipedia.exceptions.PageError:\n",
    "            return \"Sorry, I couldn't find any information on that topic.\"\n",
    "        except ValueError:\n",
    "            return \"An error occurred while searching. Please try again later.\"\n",
    "\n",
    "    def process(self, text):\n",
    "        if \"google\" in text.lower():\n",
    "            query = text.lower().replace(\"google\", \"\").strip()\n",
    "            self.search_google(query)\n",
    "            return \"Opening Google...\"\n",
    "        elif \"youtube\" in text.lower():\n",
    "            query = text.lower().replace(\"youtube\", \"\").strip()\n",
    "            self.search_youtube(query)\n",
    "            return \"Opening YouTube...\"\n",
    "        elif \"wikipedia\" in text.lower():\n",
    "            query = text.lower().replace(\"wikipedia\", \"\").strip()\n",
    "            response = self.search_wikipedia(query)\n",
    "            return response\n",
    "        elif \"bye\" in text.lower():\n",
    "            return \"Goodbye! Have a great day.\"\n",
    "        else:\n",
    "            return \"I'm sorry, I don't understand.\"\n",
    "\n",
    "    def get_voice_input(self):\n",
    "        text = self.listen()\n",
    "        if text:\n",
    "            self.assistant_response_text.config(state=tk.NORMAL)\n",
    "            self.assistant_response_text.insert(tk.END, f\"You: {text}\\n\")\n",
    "            response = self.process(text)\n",
    "            self.assistant_response_text.insert(tk.END, f\"Assistant: {response}\\n\\n\")\n",
    "            self.assistant_response_text.config(state=tk.DISABLED)\n",
    "\n",
    "def run_gui(): \n",
    "    root = tk.Tk()\n",
    "    app = VirtualAssistantApp(root)\n",
    "    root.mainloop()\n",
    "\n",
    "if __name__ == \"__main__\":\n",
    "    speak(\"Hello! I'm your virtual assistant.\")\n",
    "    run_gui()\n"
   ]
  },
  {
   "cell_type": "code",
   "execution_count": null,
   "id": "380efa67",
   "metadata": {},
   "outputs": [],
   "source": []
  },
  {
   "cell_type": "code",
   "execution_count": null,
   "id": "696d93f9",
   "metadata": {},
   "outputs": [],
   "source": []
  }
 ],
 "metadata": {
  "kernelspec": {
   "display_name": "Python 3 (ipykernel)",
   "language": "python",
   "name": "python3"
  },
  "language_info": {
   "codemirror_mode": {
    "name": "ipython",
    "version": 3
   },
   "file_extension": ".py",
   "mimetype": "text/x-python",
   "name": "python",
   "nbconvert_exporter": "python",
   "pygments_lexer": "ipython3",
   "version": "3.11.5"
  }
 },
 "nbformat": 4,
 "nbformat_minor": 5
}
